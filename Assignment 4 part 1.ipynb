{
 "cells": [
  {
   "cell_type": "code",
   "execution_count": 1,
   "metadata": {},
   "outputs": [],
   "source": [
    "import pandas as pd\n",
    "import numpy as np\n",
    "#import matplot.pyplot as plt"
   ]
  },
  {
   "cell_type": "code",
   "execution_count": 2,
   "metadata": {},
   "outputs": [],
   "source": [
    "matches = pd.read_csv(\"matches.csv\")\n",
    "deliveries = pd.read_csv(\"deliveries.csv\")"
   ]
  },
  {
   "cell_type": "markdown",
   "metadata": {},
   "source": [
    "# Q1:- Which team won / lost maximum no. of Matches while chasing"
   ]
  },
  {
   "cell_type": "code",
   "execution_count": 3,
   "metadata": {},
   "outputs": [],
   "source": [
    "\n",
    "won=matches.query(\"team2==winner\")\n"
   ]
  },
  {
   "cell_type": "code",
   "execution_count": 4,
   "metadata": {},
   "outputs": [],
   "source": [
    "gc=won[\"winner\"].value_counts()\n"
   ]
  },
  {
   "cell_type": "code",
   "execution_count": 5,
   "metadata": {},
   "outputs": [
    {
     "name": "stdout",
     "output_type": "stream",
     "text": [
      "Maximum no. of matches are won by :- Kolkata Knight Riders\n"
     ]
    }
   ],
   "source": [
    "print(\"Maximum no. of matches are won by :-\",gc.index[0])"
   ]
  },
  {
   "cell_type": "code",
   "execution_count": 6,
   "metadata": {},
   "outputs": [],
   "source": [
    "lost=matches.query(\"team2!=winner\")"
   ]
  },
  {
   "cell_type": "code",
   "execution_count": 7,
   "metadata": {
    "scrolled": false
   },
   "outputs": [],
   "source": [
    "gc=lost[\"team2\"].value_counts()"
   ]
  },
  {
   "cell_type": "code",
   "execution_count": 8,
   "metadata": {},
   "outputs": [
    {
     "name": "stdout",
     "output_type": "stream",
     "text": [
      "Maximum no. of matches are lost by :- Delhi Daredevils\n"
     ]
    }
   ],
   "source": [
    "print(\"Maximum no. of matches are lost by :-\",gc.index[0])"
   ]
  },
  {
   "cell_type": "markdown",
   "metadata": {},
   "source": [
    "# Q2:- Which toss decision is best for each ground"
   ]
  },
  {
   "cell_type": "code",
   "execution_count": 9,
   "metadata": {},
   "outputs": [],
   "source": [
    "a=matches.query(\"team1==winner\")\n",
    "b=matches.query(\"team2==winner\")"
   ]
  },
  {
   "cell_type": "code",
   "execution_count": 10,
   "metadata": {
    "scrolled": true
   },
   "outputs": [
    {
     "name": "stdout",
     "output_type": "stream",
     "text": [
      "Wankhede Stadium   venue is Best for fielding\n",
      "Feroz Shah Kotla   venue is Best for fielding\n",
      "MA Chidambaram Stadium, Chepauk   venue is Best for batting\n",
      "M Chinnaswamy Stadium   venue is Best for fielding\n",
      "Eden Gardens   venue is Best for fielding\n",
      "Rajiv Gandhi International Stadium, Uppal   venue is Best for fielding\n",
      "Punjab Cricket Association Stadium, Mohali   venue is Best for fielding\n",
      "Sawai Mansingh Stadium   venue is Best for fielding\n",
      "Subrata Roy Sahara Stadium   venue is Best for batting\n",
      "Kingsmead   venue is Best for batting\n",
      "Maharashtra Cricket Association Stadium   venue is Best for fielding\n",
      "Punjab Cricket Association IS Bindra Stadium, Mohali   venue is Best for fielding\n",
      "Dr DY Patil Sports Academy   venue is Best for fielding\n",
      "Dr. Y.S. Rajasekhara Reddy ACA-VDCA Cricket Stadium   venue is Best for batting\n",
      "Sardar Patel Stadium, Motera   venue is Best for fielding\n",
      "Brabourne Stadium   venue is Best for batting\n",
      "Rajiv Gandhi Intl. Cricket Stadium   venue is Best for batting\n",
      "Newlands   venue is Best for batting\n",
      "Himachal Pradesh Cricket Association Stadium   venue is Best for batting\n",
      "Sheikh Zayed Stadium   venue is Best for batting\n",
      "M. A. Chidambaram Stadium   venue is Best for fielding\n",
      "Barabati Stadium   venue is Best for batting\n",
      "SuperSport Park   venue is Best for fielding\n",
      "St George's Park   venue is Best for fielding\n",
      "M. Chinnaswamy Stadium   venue is Best for fielding\n",
      "Nehru Stadium   venue is Best for batting\n",
      "Dubai International Cricket Stadium   venue is Best for fielding\n",
      "New Wanderers Stadium   venue is Best for fielding\n",
      "Saurashtra Cricket Association Stadium   venue is Best for fielding\n",
      "Vidarbha Cricket Association Stadium, Jamtha   venue is Best for batting\n",
      "Feroz Shah Kotla Ground   venue is Best for fielding\n",
      "Sharjah Cricket Stadium   venue is Best for fielding\n",
      "Shaheed Veer Narayan Singh International Stadium   venue is Best for fielding\n",
      "JSCA International Stadium Complex   venue is Best for fielding\n",
      "Buffalo Park   venue is Best for batting\n",
      "IS Bindra Stadium   venue is Best for fielding\n",
      "De Beers Diamond Oval   venue is Best for fielding\n",
      "Holkar Cricket Stadium   venue is Best for fielding\n",
      "OUTsurance Oval   venue is Best for fielding\n"
     ]
    }
   ],
   "source": [
    "gc=a[\"venue\"].value_counts()\n",
    "gc1=b[\"venue\"].value_counts()\n",
    "ven=a[\"venue\"].value_counts().index\n",
    "for venue in ven:\n",
    "    if gc[venue]>gc1[venue]:\n",
    "        print(venue+\"   venue is Best for batting\")\n",
    "    else:\n",
    "        print(venue+\"   venue is Best for fielding\") \n"
   ]
  },
  {
   "cell_type": "markdown",
   "metadata": {},
   "source": [
    "# Q3:- Which Player has won maximum number of MoM awards while chasing"
   ]
  },
  {
   "cell_type": "code",
   "execution_count": 11,
   "metadata": {},
   "outputs": [],
   "source": [
    "a=matches.query(\"team2==winner\")"
   ]
  },
  {
   "cell_type": "code",
   "execution_count": 12,
   "metadata": {},
   "outputs": [],
   "source": [
    "\n",
    "gc=a[\"player_of_match\"].value_counts()"
   ]
  },
  {
   "cell_type": "code",
   "execution_count": 13,
   "metadata": {},
   "outputs": [
    {
     "name": "stdout",
     "output_type": "stream",
     "text": [
      "MoM in the chasing team is :-  YK Pathan\n"
     ]
    }
   ],
   "source": [
    "print(\"MoM in the chasing team is :- \",gc.index[0])"
   ]
  },
  {
   "cell_type": "markdown",
   "metadata": {},
   "source": [
    "# Q4:- Which bats has played maximum no. of dot balls"
   ]
  },
  {
   "cell_type": "code",
   "execution_count": 14,
   "metadata": {},
   "outputs": [],
   "source": [
    "a=deliveries.query(\"total_runs==0 & player_dismissed!='NaN'\")"
   ]
  },
  {
   "cell_type": "code",
   "execution_count": 15,
   "metadata": {},
   "outputs": [],
   "source": [
    "gc=a[\"batsman\"].value_counts()"
   ]
  },
  {
   "cell_type": "code",
   "execution_count": 16,
   "metadata": {},
   "outputs": [
    {
     "name": "stdout",
     "output_type": "stream",
     "text": [
      "bats has played maximum no. of dot balls is :-   V Kohli\n"
     ]
    }
   ],
   "source": [
    "print(\"bats has played maximum no. of dot balls is :-  \",gc.index[0])"
   ]
  },
  {
   "cell_type": "markdown",
   "metadata": {},
   "source": [
    "# Q5:- Which batsman came to crease but never got a chance to face a ball"
   ]
  },
  {
   "cell_type": "code",
   "execution_count": 17,
   "metadata": {
    "scrolled": true
   },
   "outputs": [
    {
     "data": {
      "text/plain": [
       "BW Hilfenhaus    1\n",
       "C Ganapathy      1\n",
       "TP Sudhindra     1\n",
       "A Nel            1\n",
       "Name: non_striker, dtype: int64"
      ]
     },
     "execution_count": 17,
     "metadata": {},
     "output_type": "execute_result"
    }
   ],
   "source": [
    "grp= deliveries[['batsman','non_striker']]\n",
    "a=grp[\"batsman\"].value_counts().index\n",
    "b=grp[\"non_striker\"].value_counts().index\n",
    "lists=[]\n",
    "for j in b:\n",
    "    if not j in a:\n",
    "        lists.append(j)\n",
    "df = pd.DataFrame({'non_striker':lists})\n",
    "df = df[\"non_striker\"].value_counts()\n",
    "df"
   ]
  },
  {
   "cell_type": "markdown",
   "metadata": {},
   "source": [
    "\n",
    "# Q6:- Which bowler has hit for maximum number of 1s/2s/3s/4s/6s"
   ]
  },
  {
   "cell_type": "code",
   "execution_count": 18,
   "metadata": {},
   "outputs": [
    {
     "name": "stdout",
     "output_type": "stream",
     "text": [
      "bowler has hit for maximum number of 1s  Harbhajan Singh\n"
     ]
    }
   ],
   "source": [
    "a=deliveries.query(\"total_runs==1\")\n",
    "gc=a[\"bowler\"].value_counts()\n",
    "print(\"bowler has hit for maximum number of 1s \",gc.index[0])"
   ]
  },
  {
   "cell_type": "code",
   "execution_count": 19,
   "metadata": {},
   "outputs": [
    {
     "name": "stdout",
     "output_type": "stream",
     "text": [
      "bowler has hit for maximum number of 2s  DJ Bravo\n"
     ]
    }
   ],
   "source": [
    "a=deliveries.query(\"total_runs==2\")\n",
    "gc=a[\"bowler\"].value_counts()\n",
    "print(\"bowler has hit for maximum number of 2s \",gc.index[0])"
   ]
  },
  {
   "cell_type": "code",
   "execution_count": 20,
   "metadata": {},
   "outputs": [
    {
     "name": "stdout",
     "output_type": "stream",
     "text": [
      "bowler has hit for maximum number of 3s  P Kumar\n"
     ]
    }
   ],
   "source": [
    "a=deliveries.query(\"total_runs==3\")\n",
    "gc=a[\"bowler\"].value_counts()\n",
    "print(\"bowler has hit for maximum number of 3s \",gc.index[0])"
   ]
  },
  {
   "cell_type": "code",
   "execution_count": 21,
   "metadata": {},
   "outputs": [
    {
     "name": "stdout",
     "output_type": "stream",
     "text": [
      "bowler has hit for maximum number of 4s  UT Yadav\n"
     ]
    }
   ],
   "source": [
    "a=deliveries.query(\"total_runs==4\")\n",
    "gc=a[\"bowler\"].value_counts()\n",
    "print(\"bowler has hit for maximum number of 4s \",gc.index[0])"
   ]
  },
  {
   "cell_type": "code",
   "execution_count": 22,
   "metadata": {},
   "outputs": [
    {
     "name": "stdout",
     "output_type": "stream",
     "text": [
      "bowler has hit for maximum number of 6s  PP Chawla\n"
     ]
    }
   ],
   "source": [
    "a=deliveries.query(\"total_runs==6\")\n",
    "gc=a[\"bowler\"].value_counts()\n",
    "print(\"bowler has hit for maximum number of 6s \",gc.index[0])"
   ]
  },
  {
   "cell_type": "markdown",
   "metadata": {},
   "source": [
    "# Q7:- Which batsman got stumped out maximum no. of times"
   ]
  },
  {
   "cell_type": "code",
   "execution_count": 23,
   "metadata": {},
   "outputs": [
    {
     "data": {
      "text/plain": [
       "'SK Raina'"
      ]
     },
     "execution_count": 23,
     "metadata": {},
     "output_type": "execute_result"
    }
   ],
   "source": [
    "a=deliveries.query(\"dismissal_kind=='stumped'\")\n",
    "gc=a[\"batsman\"].value_counts()\n",
    "gc.index[0]"
   ]
  },
  {
   "cell_type": "markdown",
   "metadata": {},
   "source": [
    "# Q8:-Which non-striker has been part of maximum number of runouts"
   ]
  },
  {
   "cell_type": "code",
   "execution_count": 24,
   "metadata": {},
   "outputs": [
    {
     "name": "stdout",
     "output_type": "stream",
     "text": [
      "non-striker has been part of maximum number of runouts is  AB de Villiers\n",
      "non-striker has been part of maximum number of runouts is  G Gambhir\n",
      "non-striker has been part of maximum number of runouts is  M Vijay\n"
     ]
    }
   ],
   "source": [
    "a=deliveries.query(\"dismissal_kind=='run out'& player_dismissed==non_striker\")\n",
    "gc=a[\"non_striker\"].value_counts()\n",
    "i=0\n",
    "while gc[i]==gc[0]:\n",
    "    print(\"non-striker has been part of maximum number of runouts is \",gc.index[i])\n",
    "    i+=1"
   ]
  },
  {
   "cell_type": "markdown",
   "metadata": {},
   "source": [
    "# Q9:- Which bowler have maximum no. of no balls"
   ]
  },
  {
   "cell_type": "code",
   "execution_count": 25,
   "metadata": {},
   "outputs": [
    {
     "name": "stdout",
     "output_type": "stream",
     "text": [
      "bowler have maximum no. of no balls  S Sreesanth\n"
     ]
    }
   ],
   "source": [
    "a=deliveries.query(\"noball_runs!=0\")\n",
    "\n",
    "gc=a[\"bowler\"].value_counts()\n",
    "print(\"bowler have maximum no. of no balls \",gc.index[0])"
   ]
  },
  {
   "cell_type": "markdown",
   "metadata": {},
   "source": [
    "# Q10:- which team has won  maximum no. of time"
   ]
  },
  {
   "cell_type": "code",
   "execution_count": 26,
   "metadata": {},
   "outputs": [
    {
     "name": "stdout",
     "output_type": "stream",
     "text": [
      "team has won maximum no. of time is  Mumbai Indians\n"
     ]
    }
   ],
   "source": [
    "won=matches[\"winner\"].value_counts()\n",
    "print(\"team has won maximum no. of time is \",won.index[0])"
   ]
  },
  {
   "cell_type": "markdown",
   "metadata": {},
   "source": [
    "# Q11:-which team has won minimum no. of time"
   ]
  },
  {
   "cell_type": "code",
   "execution_count": 27,
   "metadata": {},
   "outputs": [
    {
     "name": "stdout",
     "output_type": "stream",
     "text": [
      "team has won minimun no. of time is  Rising Pune Supergiants\n"
     ]
    }
   ],
   "source": [
    "won=matches[\"winner\"].value_counts()\n",
    "print(\"team has won minimun no. of time is \",won.index[-1])"
   ]
  },
  {
   "cell_type": "markdown",
   "metadata": {},
   "source": [
    "# Q12:- Bowler did maximum no. of wide runs"
   ]
  },
  {
   "cell_type": "code",
   "execution_count": 28,
   "metadata": {},
   "outputs": [
    {
     "name": "stdout",
     "output_type": "stream",
     "text": [
      "Bowler did maximum no. of wide runs is  SL Malinga\n"
     ]
    }
   ],
   "source": [
    "won=deliveries.query(\"wide_runs>0\")\n",
    "gc=won[\"bowler\"].value_counts()\n",
    "print(\"Bowler did maximum no. of wide runs is \",gc.index[0])"
   ]
  },
  {
   "cell_type": "markdown",
   "metadata": {},
   "source": [
    "# Q13:- which batsman played maximum no of time in 20th over"
   ]
  },
  {
   "cell_type": "code",
   "execution_count": 29,
   "metadata": {},
   "outputs": [
    {
     "name": "stdout",
     "output_type": "stream",
     "text": [
      "maximum no of time player played in 20 over is   MS Dhoni\n"
     ]
    }
   ],
   "source": [
    "a=deliveries.query(\"over==20\")\n",
    "gc=a[\"batsman\"].value_counts()\n",
    "print(\"maximum no of time player played in 20 over is  \",gc.index[0])"
   ]
  }
 ],
 "metadata": {
  "kernelspec": {
   "display_name": "Python 3",
   "language": "python",
   "name": "python3"
  },
  "language_info": {
   "codemirror_mode": {
    "name": "ipython",
    "version": 3
   },
   "file_extension": ".py",
   "mimetype": "text/x-python",
   "name": "python",
   "nbconvert_exporter": "python",
   "pygments_lexer": "ipython3",
   "version": "3.7.3"
  }
 },
 "nbformat": 4,
 "nbformat_minor": 2
}
